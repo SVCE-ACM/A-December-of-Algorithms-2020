{
 "cells": [
  {
   "cell_type": "markdown",
   "metadata": {},
   "source": [
    "# DEC-11 JSQL"
   ]
  },
  {
   "cell_type": "markdown",
   "metadata": {},
   "source": [
    "### Import Libraries"
   ]
  },
  {
   "cell_type": "code",
   "execution_count": 1,
   "metadata": {},
   "outputs": [],
   "source": [
    "import json"
   ]
  },
  {
   "cell_type": "markdown",
   "metadata": {},
   "source": [
    "### Getting Inputs"
   ]
  },
  {
   "cell_type": "code",
   "execution_count": 2,
   "metadata": {},
   "outputs": [],
   "source": [
    "# testcase 1\n",
    "\n",
    "x = \"\"\"\n",
    "{\n",
    "   \"table name\":\"my_table\",\n",
    "   \"headers\":{\n",
    "      \"1\":{\n",
    "         \"column name\":\"id\",\n",
    "         \"data type\":\"integer\"\n",
    "      },\n",
    "      \"2\":{\n",
    "         \"column name\":\"name\",\n",
    "         \"data type\":\"varchar(30)\"\n",
    "      }\n",
    "   },\n",
    "   \"records\":{\n",
    "      \"1\":[\n",
    "         1,\n",
    "         \"Josh\"\n",
    "      ],\n",
    "      \"2\":[\n",
    "         2,\n",
    "         \"Mike\"\n",
    "      ],\n",
    "      \"3\":[\n",
    "         3,\n",
    "         \"Tom\"\n",
    "      ]\n",
    "   }\n",
    "}\n",
    "\"\"\""
   ]
  },
  {
   "cell_type": "markdown",
   "metadata": {},
   "source": [
    "### Parse Json"
   ]
  },
  {
   "cell_type": "markdown",
   "metadata": {},
   "source": [
    "### Function to get SQL statements"
   ]
  },
  {
   "cell_type": "code",
   "execution_count": 3,
   "metadata": {},
   "outputs": [],
   "source": [
    "def jsql(x):\n",
    "    \n",
    "    #Parse JSON\n",
    "    y = json.loads(x)\n",
    "    \n",
    "    #Get SQL statements\n",
    "    output = \"CREATE TABLE \"\n",
    "    output += y[\"table name\"]\n",
    "    output += \" (\"\n",
    "\n",
    "    for key,val in y[\"headers\"].items():\n",
    "        output += val[\"column name\"]\n",
    "        output += \" \"\n",
    "        output += val[\"data type\"]\n",
    "        output += \",\"\n",
    "\n",
    "    output += \"\\b);\\n\"\n",
    "    \n",
    "    for key,val in y[\"records\"].items():\n",
    "        output += \"INSERT INTO \"\n",
    "        output += y[\"table name\"]\n",
    "        output += \" values \"\n",
    "        output += \"(\"\n",
    "        output += str(val)[1:]\n",
    "        output += '\\b'\n",
    "        output += \");\"\n",
    "        output += '\\n'\n",
    "    \n",
    "    return output"
   ]
  },
  {
   "cell_type": "markdown",
   "metadata": {},
   "source": [
    "### ANSWER FOR TESTCASE"
   ]
  },
  {
   "cell_type": "code",
   "execution_count": 4,
   "metadata": {},
   "outputs": [
    {
     "name": "stdout",
     "output_type": "stream",
     "text": [
      "CREATE TABLE my_table (id integer,name varchar(30),\b);\n",
      "INSERT INTO my_table values (1, 'Josh']\b);\n",
      "INSERT INTO my_table values (2, 'Mike']\b);\n",
      "INSERT INTO my_table values (3, 'Tom']\b);\n",
      "\n"
     ]
    }
   ],
   "source": [
    "answer = jsql(x)\n",
    "print(answer)"
   ]
  },
  {
   "cell_type": "markdown",
   "metadata": {},
   "source": [
    "### ANSWER FOR SAMPLE INPUT"
   ]
  },
  {
   "cell_type": "code",
   "execution_count": 5,
   "metadata": {},
   "outputs": [],
   "source": [
    "import urllib"
   ]
  },
  {
   "cell_type": "code",
   "execution_count": 6,
   "metadata": {},
   "outputs": [],
   "source": [
    "link = \"https://raw.githubusercontent.com/SVCE-ACM/A-December-of-Algorithms-2020/main/src/assets/dec%2011%20sample%20input.json\"\n",
    "f = urllib.request.urlopen(link)\n",
    "myfile = f.read()"
   ]
  },
  {
   "cell_type": "code",
   "execution_count": 7,
   "metadata": {},
   "outputs": [
    {
     "name": "stdout",
     "output_type": "stream",
     "text": [
      "CREATE TABLE books (id integer,book_name varchar(30),price integer,page_count integer,\b);\n",
      "INSERT INTO books values (1, 'Harry Potter', 1200, 330]\b);\n",
      "INSERT INTO books values (2, 'Sherlock Holmes', 800, 280]\b);\n",
      "INSERT INTO books values (3, 'Iron Man', 500, 200]\b);\n",
      "INSERT INTO books values (4, 'Batman vs Superman', 1000, 300]\b);\n",
      "\n"
     ]
    }
   ],
   "source": [
    "answers = jsql(myfile)\n",
    "print(answers)"
   ]
  },
  {
   "cell_type": "code",
   "execution_count": null,
   "metadata": {},
   "outputs": [],
   "source": []
  }
 ],
 "metadata": {
  "kernelspec": {
   "display_name": "Python 3",
   "language": "python",
   "name": "python3"
  },
  "language_info": {
   "codemirror_mode": {
    "name": "ipython",
    "version": 3
   },
   "file_extension": ".py",
   "mimetype": "text/x-python",
   "name": "python",
   "nbconvert_exporter": "python",
   "pygments_lexer": "ipython3",
   "version": "3.7.4"
  }
 },
 "nbformat": 4,
 "nbformat_minor": 4
}
