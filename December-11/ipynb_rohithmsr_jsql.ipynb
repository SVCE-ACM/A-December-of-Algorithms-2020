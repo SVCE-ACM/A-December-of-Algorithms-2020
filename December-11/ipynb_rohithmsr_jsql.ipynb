{
 "cells": [
  {
   "cell_type": "markdown",
   "metadata": {},
   "source": [
    "# DEC-11 JSQL"
   ]
  },
  {
   "cell_type": "markdown",
   "metadata": {},
   "source": [
    "### Import Libraries"
   ]
  },
  {
   "cell_type": "code",
   "execution_count": 33,
   "metadata": {},
   "outputs": [],
   "source": [
    "import json"
   ]
  },
  {
   "cell_type": "markdown",
   "metadata": {},
   "source": [
    "### Getting Inputs"
   ]
  },
  {
   "cell_type": "code",
   "execution_count": 34,
   "metadata": {},
   "outputs": [],
   "source": [
    "# testcase 1\n",
    "\n",
    "x = \"\"\"\n",
    "{\n",
    "   \"table name\":\"my_table\",\n",
    "   \"headers\":{\n",
    "      \"1\":{\n",
    "         \"column name\":\"id\",\n",
    "         \"data type\":\"integer\"\n",
    "      },\n",
    "      \"2\":{\n",
    "         \"column name\":\"name\",\n",
    "         \"data type\":\"varchar(30)\"\n",
    "      }\n",
    "   },\n",
    "   \"records\":{\n",
    "      \"1\":[\n",
    "         1,\n",
    "         \"Josh\"\n",
    "      ],\n",
    "      \"2\":[\n",
    "         2,\n",
    "         \"Mike\"\n",
    "      ],\n",
    "      \"3\":[\n",
    "         3,\n",
    "         \"Tom\"\n",
    "      ]\n",
    "   }\n",
    "}\n",
    "\"\"\""
   ]
  },
  {
   "cell_type": "markdown",
   "metadata": {},
   "source": [
    "### Parse Json"
   ]
  },
  {
   "cell_type": "markdown",
   "metadata": {},
   "source": [
    "### Function to get SQL statements"
   ]
  },
  {
   "cell_type": "code",
   "execution_count": 35,
   "metadata": {},
   "outputs": [],
   "source": [
    "def jsql(x):\n",
    "    \n",
    "    #Parse JSON\n",
    "    y = json.loads(x)\n",
    "    \n",
    "    #Get SQL statements\n",
    "    output = \"CREATE TABLE \"\n",
    "    output += y[\"table name\"]\n",
    "    output += \" (\"\n",
    "    \n",
    "    st = \"\"\n",
    "\n",
    "    for key,val in y[\"headers\"].items():\n",
    "        st += val[\"column name\"]\n",
    "        st += \" \"\n",
    "        st += val[\"data type\"]\n",
    "        st += \",\"\n",
    "\n",
    "    output += st[0:len(st)-1]\n",
    "    output += \");\\n\"\n",
    "    for key,val in y[\"records\"].items():\n",
    "        st = str(val)\n",
    "        output += \"INSERT INTO \"\n",
    "        output += y[\"table name\"]\n",
    "        output += \" values \"\n",
    "        output += \"(\"\n",
    "        output += st[1:len(st) - 1]\n",
    "        output += \");\"\n",
    "        output += '\\n'\n",
    "    \n",
    "    return output"
   ]
  },
  {
   "cell_type": "markdown",
   "metadata": {},
   "source": [
    "### ANSWER FOR TESTCASE"
   ]
  },
  {
   "cell_type": "code",
   "execution_count": 36,
   "metadata": {},
   "outputs": [
    {
     "name": "stdout",
     "output_type": "stream",
     "text": [
      "CREATE TABLE my_table (id integer,name varchar(30));\n",
      "INSERT INTO my_table values (1, 'Josh');\n",
      "INSERT INTO my_table values (2, 'Mike');\n",
      "INSERT INTO my_table values (3, 'Tom');\n",
      "\n"
     ]
    }
   ],
   "source": [
    "answer = jsql(x)\n",
    "print(answer)"
   ]
  },
  {
   "cell_type": "markdown",
   "metadata": {},
   "source": [
    "### ANSWER FOR SAMPLE INPUT"
   ]
  },
  {
   "cell_type": "code",
   "execution_count": 37,
   "metadata": {},
   "outputs": [],
   "source": [
    "import urllib"
   ]
  },
  {
   "cell_type": "code",
   "execution_count": 38,
   "metadata": {},
   "outputs": [],
   "source": [
    "link = \"https://raw.githubusercontent.com/SVCE-ACM/A-December-of-Algorithms-2020/main/src/assets/dec%2011%20sample%20input.json\"\n",
    "f = urllib.request.urlopen(link)\n",
    "myfile = f.read()"
   ]
  },
  {
   "cell_type": "code",
   "execution_count": 39,
   "metadata": {},
   "outputs": [
    {
     "name": "stdout",
     "output_type": "stream",
     "text": [
      "CREATE TABLE books (id integer,book_name varchar(30),price integer,page_count integer);\n",
      "INSERT INTO books values (1, 'Harry Potter', 1200, 330);\n",
      "INSERT INTO books values (2, 'Sherlock Holmes', 800, 280);\n",
      "INSERT INTO books values (3, 'Iron Man', 500, 200);\n",
      "INSERT INTO books values (4, 'Batman vs Superman', 1000, 300);\n",
      "\n"
     ]
    }
   ],
   "source": [
    "answers = jsql(myfile)\n",
    "print(answers)"
   ]
  }
 ],
 "metadata": {
  "kernelspec": {
   "display_name": "Python 3",
   "language": "python",
   "name": "python3"
  },
  "language_info": {
   "codemirror_mode": {
    "name": "ipython",
    "version": 3
   },
   "file_extension": ".py",
   "mimetype": "text/x-python",
   "name": "python",
   "nbconvert_exporter": "python",
   "pygments_lexer": "ipython3",
   "version": "3.7.4"
  }
 },
 "nbformat": 4,
 "nbformat_minor": 4
}
